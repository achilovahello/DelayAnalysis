{
 "cells": [
  {
   "cell_type": "markdown",
   "metadata": {},
   "source": [
    "# Delay Analysis of Air Astana"
   ]
  },
  {
   "cell_type": "markdown",
   "metadata": {},
   "source": [
    "## According to a 2010 report made by the US Federal Aviation Administration, the economic price of domestic flight delays entails a yearly cost of 32.9 billion dollars to passengers, airlines and other parts of the economy. More than half of that amount comes from the pockets of passengers who not only lose time waiting for their planes to leave, but they also miss connecting flights, spend money on food and have to sleep on hotel rooms while they're stranded.\n",
    "\n"
   ]
  },
  {
   "cell_type": "markdown",
   "metadata": {},
   "source": [
    "## But, what are the causes for these delays?\n",
    "\n"
   ]
  },
  {
   "cell_type": "markdown",
   "metadata": {},
   "source": [
    "## In order to answer this question, we are going to analyze the provided dataset, for 2019 until July 2020 their causes for delay, diversion and cancellation;                                            "
   ]
  },
  {
   "cell_type": "code",
   "execution_count": 113,
   "metadata": {},
   "outputs": [],
   "source": [
    "import pandas as pd\n",
    "import numpy as np"
   ]
  },
  {
   "cell_type": "code",
   "execution_count": 114,
   "metadata": {},
   "outputs": [],
   "source": [
    "FlightDelays = pd.read_excel('FlightDelays.xlsx', encoding ='utf-8')"
   ]
  },
  {
   "cell_type": "code",
   "execution_count": 146,
   "metadata": {},
   "outputs": [
    {
     "data": {
      "text/plain": [
       "FlightNumber                  74725\n",
       "FlightDate                    74725\n",
       "OriginalFlightDate            74725\n",
       "ScheduledDepartureDateTime    74725\n",
       "DepartureStation              74725\n",
       "CarrierID                     74725\n",
       "FlightPostfix                  1975\n",
       "DelayCode                     74725\n",
       "SubDelayID                    74725\n",
       "TypeOfDelay                   74725\n",
       "DelayTime                     74725\n",
       "dtype: int64"
      ]
     },
     "execution_count": 146,
     "metadata": {},
     "output_type": "execute_result"
    }
   ],
   "source": [
    "FlightDelays.count()"
   ]
  },
  {
   "cell_type": "code",
   "execution_count": 110,
   "metadata": {},
   "outputs": [],
   "source": [
    "##import needed libraries & float format definition\n",
    "import matplotlib.pyplot as plt\n",
    "import seaborn as sns\n",
    "import datetime as dt\n",
    "from scipy import stats\n",
    "from scipy.stats import norm\n",
    "import unicodecsv"
   ]
  },
  {
   "cell_type": "code",
   "execution_count": 4,
   "metadata": {},
   "outputs": [
    {
     "data": {
      "text/html": [
       "<div>\n",
       "<style scoped>\n",
       "    .dataframe tbody tr th:only-of-type {\n",
       "        vertical-align: middle;\n",
       "    }\n",
       "\n",
       "    .dataframe tbody tr th {\n",
       "        vertical-align: top;\n",
       "    }\n",
       "\n",
       "    .dataframe thead th {\n",
       "        text-align: right;\n",
       "    }\n",
       "</style>\n",
       "<table border=\"1\" class=\"dataframe\">\n",
       "  <thead>\n",
       "    <tr style=\"text-align: right;\">\n",
       "      <th></th>\n",
       "      <th>FlightNumber</th>\n",
       "      <th>FlightDate</th>\n",
       "      <th>OriginalFlightDate</th>\n",
       "      <th>ScheduledDepartureDateTime</th>\n",
       "      <th>DepartureStation</th>\n",
       "      <th>CarrierID</th>\n",
       "      <th>FlightPostfix</th>\n",
       "      <th>DelayCode</th>\n",
       "      <th>SubDelayID</th>\n",
       "      <th>TypeOfDelay</th>\n",
       "      <th>DelayTime</th>\n",
       "    </tr>\n",
       "  </thead>\n",
       "  <tbody>\n",
       "    <tr>\n",
       "      <th>0</th>\n",
       "      <td>109</td>\n",
       "      <td>2019-01-01</td>\n",
       "      <td>2019-01-01</td>\n",
       "      <td>2019-01-01 12:20:00</td>\n",
       "      <td>ALA</td>\n",
       "      <td>1</td>\n",
       "      <td>NaN</td>\n",
       "      <td>89</td>\n",
       "      <td>25</td>\n",
       "      <td>1</td>\n",
       "      <td>1</td>\n",
       "    </tr>\n",
       "    <tr>\n",
       "      <th>1</th>\n",
       "      <td>153</td>\n",
       "      <td>2019-01-01</td>\n",
       "      <td>2019-01-01</td>\n",
       "      <td>2019-01-01 02:15:00</td>\n",
       "      <td>ALA</td>\n",
       "      <td>1</td>\n",
       "      <td>NaN</td>\n",
       "      <td>89</td>\n",
       "      <td>25</td>\n",
       "      <td>1</td>\n",
       "      <td>2</td>\n",
       "    </tr>\n",
       "    <tr>\n",
       "      <th>2</th>\n",
       "      <td>301</td>\n",
       "      <td>2019-01-01</td>\n",
       "      <td>2019-01-01</td>\n",
       "      <td>2019-01-01 12:00:00</td>\n",
       "      <td>ALA</td>\n",
       "      <td>1</td>\n",
       "      <td>NaN</td>\n",
       "      <td>89</td>\n",
       "      <td>25</td>\n",
       "      <td>1</td>\n",
       "      <td>5</td>\n",
       "    </tr>\n",
       "    <tr>\n",
       "      <th>3</th>\n",
       "      <td>307</td>\n",
       "      <td>2019-01-01</td>\n",
       "      <td>2019-01-01</td>\n",
       "      <td>2019-01-01 12:05:00</td>\n",
       "      <td>ALA</td>\n",
       "      <td>1</td>\n",
       "      <td>NaN</td>\n",
       "      <td>93</td>\n",
       "      <td>0</td>\n",
       "      <td>2</td>\n",
       "      <td>1</td>\n",
       "    </tr>\n",
       "    <tr>\n",
       "      <th>4</th>\n",
       "      <td>311</td>\n",
       "      <td>2019-01-01</td>\n",
       "      <td>2019-01-01</td>\n",
       "      <td>2019-01-01 12:40:00</td>\n",
       "      <td>ALA</td>\n",
       "      <td>1</td>\n",
       "      <td>NaN</td>\n",
       "      <td>89</td>\n",
       "      <td>25</td>\n",
       "      <td>1</td>\n",
       "      <td>7</td>\n",
       "    </tr>\n",
       "  </tbody>\n",
       "</table>\n",
       "</div>"
      ],
      "text/plain": [
       "   FlightNumber FlightDate OriginalFlightDate ScheduledDepartureDateTime  \\\n",
       "0           109 2019-01-01         2019-01-01        2019-01-01 12:20:00   \n",
       "1           153 2019-01-01         2019-01-01        2019-01-01 02:15:00   \n",
       "2           301 2019-01-01         2019-01-01        2019-01-01 12:00:00   \n",
       "3           307 2019-01-01         2019-01-01        2019-01-01 12:05:00   \n",
       "4           311 2019-01-01         2019-01-01        2019-01-01 12:40:00   \n",
       "\n",
       "  DepartureStation  CarrierID FlightPostfix  DelayCode  SubDelayID  \\\n",
       "0              ALA          1           NaN         89          25   \n",
       "1              ALA          1           NaN         89          25   \n",
       "2              ALA          1           NaN         89          25   \n",
       "3              ALA          1           NaN         93           0   \n",
       "4              ALA          1           NaN         89          25   \n",
       "\n",
       "   TypeOfDelay  DelayTime  \n",
       "0            1          1  \n",
       "1            1          2  \n",
       "2            1          5  \n",
       "3            2          1  \n",
       "4            1          7  "
      ]
     },
     "execution_count": 4,
     "metadata": {},
     "output_type": "execute_result"
    }
   ],
   "source": [
    "FlightDelays.head()"
   ]
  },
  {
   "cell_type": "code",
   "execution_count": 5,
   "metadata": {},
   "outputs": [
    {
     "data": {
      "text/plain": [
       "array([1, 2])"
      ]
     },
     "execution_count": 5,
     "metadata": {},
     "output_type": "execute_result"
    }
   ],
   "source": [
    "FlightDelays.TypeOfDelay.unique()"
   ]
  },
  {
   "cell_type": "markdown",
   "metadata": {},
   "source": [
    "## Delays have two type: Departure Delays = 1, Arrival Delays = 2"
   ]
  },
  {
   "cell_type": "code",
   "execution_count": 6,
   "metadata": {},
   "outputs": [],
   "source": [
    "DelayCodes = pd.read_excel('DelayCodes.xlsx', encoding = 'utf-8')"
   ]
  },
  {
   "cell_type": "code",
   "execution_count": 7,
   "metadata": {},
   "outputs": [
    {
     "data": {
      "text/html": [
       "<div>\n",
       "<style scoped>\n",
       "    .dataframe tbody tr th:only-of-type {\n",
       "        vertical-align: middle;\n",
       "    }\n",
       "\n",
       "    .dataframe tbody tr th {\n",
       "        vertical-align: top;\n",
       "    }\n",
       "\n",
       "    .dataframe thead th {\n",
       "        text-align: right;\n",
       "    }\n",
       "</style>\n",
       "<table border=\"1\" class=\"dataframe\">\n",
       "  <thead>\n",
       "    <tr style=\"text-align: right;\">\n",
       "      <th></th>\n",
       "      <th>ID</th>\n",
       "      <th>CategoryID</th>\n",
       "      <th>Description</th>\n",
       "    </tr>\n",
       "  </thead>\n",
       "  <tbody>\n",
       "    <tr>\n",
       "      <th>75</th>\n",
       "      <td>89</td>\n",
       "      <td>14</td>\n",
       "      <td>RESTRICTIONS AT AIRPORT OF DEPARTURE</td>\n",
       "    </tr>\n",
       "  </tbody>\n",
       "</table>\n",
       "</div>"
      ],
      "text/plain": [
       "    ID  CategoryID                           Description\n",
       "75  89          14  RESTRICTIONS AT AIRPORT OF DEPARTURE"
      ]
     },
     "execution_count": 7,
     "metadata": {},
     "output_type": "execute_result"
    }
   ],
   "source": [
    "DelayCodes [DelayCodes['ID'] == 89]"
   ]
  },
  {
   "cell_type": "code",
   "execution_count": 8,
   "metadata": {},
   "outputs": [],
   "source": [
    "DelayCategories = pd.read_excel('DelayCategories.xlsx', encoding = 'utf-8')"
   ]
  },
  {
   "cell_type": "code",
   "execution_count": 9,
   "metadata": {},
   "outputs": [
    {
     "data": {
      "text/html": [
       "<div>\n",
       "<style scoped>\n",
       "    .dataframe tbody tr th:only-of-type {\n",
       "        vertical-align: middle;\n",
       "    }\n",
       "\n",
       "    .dataframe tbody tr th {\n",
       "        vertical-align: top;\n",
       "    }\n",
       "\n",
       "    .dataframe thead th {\n",
       "        text-align: right;\n",
       "    }\n",
       "</style>\n",
       "<table border=\"1\" class=\"dataframe\">\n",
       "  <thead>\n",
       "    <tr style=\"text-align: right;\">\n",
       "      <th></th>\n",
       "      <th>ID</th>\n",
       "      <th>Code</th>\n",
       "      <th>Description</th>\n",
       "    </tr>\n",
       "  </thead>\n",
       "  <tbody>\n",
       "    <tr>\n",
       "      <th>0</th>\n",
       "      <td>1</td>\n",
       "      <td>OTHR</td>\n",
       "      <td>Others</td>\n",
       "    </tr>\n",
       "    <tr>\n",
       "      <th>1</th>\n",
       "      <td>2</td>\n",
       "      <td>SCH</td>\n",
       "      <td>Schedules</td>\n",
       "    </tr>\n",
       "    <tr>\n",
       "      <th>2</th>\n",
       "      <td>3</td>\n",
       "      <td>P&amp;B</td>\n",
       "      <td>Passenger &amp; Baggage</td>\n",
       "    </tr>\n",
       "    <tr>\n",
       "      <th>3</th>\n",
       "      <td>4</td>\n",
       "      <td>C&amp;M</td>\n",
       "      <td>Cargo &amp; Mail</td>\n",
       "    </tr>\n",
       "    <tr>\n",
       "      <th>4</th>\n",
       "      <td>5</td>\n",
       "      <td>ML</td>\n",
       "      <td>Mail only</td>\n",
       "    </tr>\n",
       "  </tbody>\n",
       "</table>\n",
       "</div>"
      ],
      "text/plain": [
       "   ID  Code          Description\n",
       "0   1  OTHR               Others\n",
       "1   2   SCH            Schedules\n",
       "2   3   P&B  Passenger & Baggage\n",
       "3   4   C&M         Cargo & Mail\n",
       "4   5    ML            Mail only"
      ]
     },
     "execution_count": 9,
     "metadata": {},
     "output_type": "execute_result"
    }
   ],
   "source": [
    "DelayCategories.head()"
   ]
  },
  {
   "cell_type": "code",
   "execution_count": 10,
   "metadata": {},
   "outputs": [
    {
     "data": {
      "text/plain": [
       "array([89, 93, 68,  8, 15, 41, 75, 85, 51, 55, 33, 36, 86, 81, 13, 46,  9,\n",
       "       35, 95, 32, 16,  0, 71, 34, 65, 77, 88, 72, 62, 74, 91, 47, 87, 18,\n",
       "       42, 37, 11,  7, 64, 96, 52, 67, 12, 31, 38, 49, 43, 45, 92, 94,  1,\n",
       "        5, 66, 80,  2, 63, 76, 17, 21, 22, 61, 57, 19, 14, 27, 26, 73, 69,\n",
       "       82, 59, 25, 24, 28, 39, 23, 29, 99])"
      ]
     },
     "execution_count": 10,
     "metadata": {},
     "output_type": "execute_result"
    }
   ],
   "source": [
    "FlightDelays.DelayCode.unique()"
   ]
  },
  {
   "cell_type": "code",
   "execution_count": 11,
   "metadata": {},
   "outputs": [
    {
     "data": {
      "text/plain": [
       "93    41425\n",
       "89    11273\n",
       "0      2263\n",
       "15     1890\n",
       "41     1700\n",
       "Name: DelayCode, dtype: int64"
      ]
     },
     "execution_count": 11,
     "metadata": {},
     "output_type": "execute_result"
    }
   ],
   "source": [
    "FlightDelays['DelayCode'].value_counts().head(5)"
   ]
  },
  {
   "cell_type": "code",
   "execution_count": 12,
   "metadata": {},
   "outputs": [],
   "source": [
    "# if ID is 0, It is not delay\n",
    "FlightDelays = FlightDelays[~ FlightDelays.DelayCode.isin([0])]"
   ]
  },
  {
   "cell_type": "code",
   "execution_count": 13,
   "metadata": {},
   "outputs": [
    {
     "data": {
      "text/plain": [
       "93    41425\n",
       "89    11273\n",
       "15     1890\n",
       "41     1700\n",
       "75     1202\n",
       "Name: DelayCode, dtype: int64"
      ]
     },
     "execution_count": 13,
     "metadata": {},
     "output_type": "execute_result"
    }
   ],
   "source": [
    "FlightDelays['DelayCode'].value_counts().head(5)"
   ]
  },
  {
   "cell_type": "code",
   "execution_count": 14,
   "metadata": {},
   "outputs": [],
   "source": [
    "#Only Departure Delays\n",
    "DepDelays = FlightDelays[FlightDelays['TypeOfDelay'] == 1]"
   ]
  },
  {
   "cell_type": "code",
   "execution_count": 15,
   "metadata": {},
   "outputs": [],
   "source": [
    "#Only Arrival Delays\n",
    "ArrDelays = FlightDelays[FlightDelays['TypeOfDelay'] == 2]"
   ]
  },
  {
   "cell_type": "code",
   "execution_count": 16,
   "metadata": {
    "scrolled": true
   },
   "outputs": [
    {
     "data": {
      "text/html": [
       "<div>\n",
       "<style scoped>\n",
       "    .dataframe tbody tr th:only-of-type {\n",
       "        vertical-align: middle;\n",
       "    }\n",
       "\n",
       "    .dataframe tbody tr th {\n",
       "        vertical-align: top;\n",
       "    }\n",
       "\n",
       "    .dataframe thead th {\n",
       "        text-align: right;\n",
       "    }\n",
       "</style>\n",
       "<table border=\"1\" class=\"dataframe\">\n",
       "  <thead>\n",
       "    <tr style=\"text-align: right;\">\n",
       "      <th></th>\n",
       "      <th>FlightNumber</th>\n",
       "      <th>FlightDate</th>\n",
       "      <th>OriginalFlightDate</th>\n",
       "      <th>ScheduledDepartureDateTime</th>\n",
       "      <th>DepartureStation</th>\n",
       "      <th>CarrierID</th>\n",
       "      <th>FlightPostfix</th>\n",
       "      <th>DelayCode</th>\n",
       "      <th>SubDelayID</th>\n",
       "      <th>TypeOfDelay</th>\n",
       "      <th>DelayTime</th>\n",
       "    </tr>\n",
       "  </thead>\n",
       "  <tbody>\n",
       "    <tr>\n",
       "      <th>0</th>\n",
       "      <td>109</td>\n",
       "      <td>2019-01-01</td>\n",
       "      <td>2019-01-01</td>\n",
       "      <td>2019-01-01 12:20:00</td>\n",
       "      <td>ALA</td>\n",
       "      <td>1</td>\n",
       "      <td>NaN</td>\n",
       "      <td>89</td>\n",
       "      <td>25</td>\n",
       "      <td>1</td>\n",
       "      <td>1</td>\n",
       "    </tr>\n",
       "    <tr>\n",
       "      <th>1</th>\n",
       "      <td>153</td>\n",
       "      <td>2019-01-01</td>\n",
       "      <td>2019-01-01</td>\n",
       "      <td>2019-01-01 02:15:00</td>\n",
       "      <td>ALA</td>\n",
       "      <td>1</td>\n",
       "      <td>NaN</td>\n",
       "      <td>89</td>\n",
       "      <td>25</td>\n",
       "      <td>1</td>\n",
       "      <td>2</td>\n",
       "    </tr>\n",
       "    <tr>\n",
       "      <th>2</th>\n",
       "      <td>301</td>\n",
       "      <td>2019-01-01</td>\n",
       "      <td>2019-01-01</td>\n",
       "      <td>2019-01-01 12:00:00</td>\n",
       "      <td>ALA</td>\n",
       "      <td>1</td>\n",
       "      <td>NaN</td>\n",
       "      <td>89</td>\n",
       "      <td>25</td>\n",
       "      <td>1</td>\n",
       "      <td>5</td>\n",
       "    </tr>\n",
       "    <tr>\n",
       "      <th>4</th>\n",
       "      <td>311</td>\n",
       "      <td>2019-01-01</td>\n",
       "      <td>2019-01-01</td>\n",
       "      <td>2019-01-01 12:40:00</td>\n",
       "      <td>ALA</td>\n",
       "      <td>1</td>\n",
       "      <td>NaN</td>\n",
       "      <td>89</td>\n",
       "      <td>25</td>\n",
       "      <td>1</td>\n",
       "      <td>7</td>\n",
       "    </tr>\n",
       "    <tr>\n",
       "      <th>7</th>\n",
       "      <td>853</td>\n",
       "      <td>2019-01-01</td>\n",
       "      <td>2019-01-01</td>\n",
       "      <td>2019-01-01 05:40:00</td>\n",
       "      <td>ALA</td>\n",
       "      <td>1</td>\n",
       "      <td>NaN</td>\n",
       "      <td>89</td>\n",
       "      <td>25</td>\n",
       "      <td>1</td>\n",
       "      <td>2</td>\n",
       "    </tr>\n",
       "  </tbody>\n",
       "</table>\n",
       "</div>"
      ],
      "text/plain": [
       "   FlightNumber FlightDate OriginalFlightDate ScheduledDepartureDateTime  \\\n",
       "0           109 2019-01-01         2019-01-01        2019-01-01 12:20:00   \n",
       "1           153 2019-01-01         2019-01-01        2019-01-01 02:15:00   \n",
       "2           301 2019-01-01         2019-01-01        2019-01-01 12:00:00   \n",
       "4           311 2019-01-01         2019-01-01        2019-01-01 12:40:00   \n",
       "7           853 2019-01-01         2019-01-01        2019-01-01 05:40:00   \n",
       "\n",
       "  DepartureStation  CarrierID FlightPostfix  DelayCode  SubDelayID  \\\n",
       "0              ALA          1           NaN         89          25   \n",
       "1              ALA          1           NaN         89          25   \n",
       "2              ALA          1           NaN         89          25   \n",
       "4              ALA          1           NaN         89          25   \n",
       "7              ALA          1           NaN         89          25   \n",
       "\n",
       "   TypeOfDelay  DelayTime  \n",
       "0            1          1  \n",
       "1            1          2  \n",
       "2            1          5  \n",
       "4            1          7  \n",
       "7            1          2  "
      ]
     },
     "execution_count": 16,
     "metadata": {},
     "output_type": "execute_result"
    }
   ],
   "source": [
    "DepDelays.head()"
   ]
  },
  {
   "cell_type": "code",
   "execution_count": 17,
   "metadata": {},
   "outputs": [],
   "source": [
    "PopularDelays = DepDelays['DelayCode'].value_counts().head(5)"
   ]
  },
  {
   "cell_type": "markdown",
   "metadata": {},
   "source": [
    "# The result same with general delays (1 and 2 types)"
   ]
  },
  {
   "cell_type": "code",
   "execution_count": 18,
   "metadata": {},
   "outputs": [
    {
     "data": {
      "text/plain": [
       "93    25991\n",
       "1         1\n",
       "Name: DelayCode, dtype: int64"
      ]
     },
     "execution_count": 18,
     "metadata": {},
     "output_type": "execute_result"
    }
   ],
   "source": [
    "ArrDelays['DelayCode'].value_counts().head(5)"
   ]
  },
  {
   "cell_type": "code",
   "execution_count": 19,
   "metadata": {},
   "outputs": [
    {
     "data": {
      "text/plain": [
       "93    15434\n",
       "89    11273\n",
       "15     1890\n",
       "41     1700\n",
       "75     1202\n",
       "Name: DelayCode, dtype: int64"
      ]
     },
     "execution_count": 19,
     "metadata": {},
     "output_type": "execute_result"
    }
   ],
   "source": [
    "PopularDelays"
   ]
  },
  {
   "cell_type": "code",
   "execution_count": 20,
   "metadata": {},
   "outputs": [
    {
     "data": {
      "text/html": [
       "<div>\n",
       "<style scoped>\n",
       "    .dataframe tbody tr th:only-of-type {\n",
       "        vertical-align: middle;\n",
       "    }\n",
       "\n",
       "    .dataframe tbody tr th {\n",
       "        vertical-align: top;\n",
       "    }\n",
       "\n",
       "    .dataframe thead th {\n",
       "        text-align: right;\n",
       "    }\n",
       "</style>\n",
       "<table border=\"1\" class=\"dataframe\">\n",
       "  <thead>\n",
       "    <tr style=\"text-align: right;\">\n",
       "      <th></th>\n",
       "      <th>DelayCode</th>\n",
       "    </tr>\n",
       "  </thead>\n",
       "  <tbody>\n",
       "    <tr>\n",
       "      <th>93</th>\n",
       "      <td>15434</td>\n",
       "    </tr>\n",
       "    <tr>\n",
       "      <th>89</th>\n",
       "      <td>11273</td>\n",
       "    </tr>\n",
       "    <tr>\n",
       "      <th>15</th>\n",
       "      <td>1890</td>\n",
       "    </tr>\n",
       "    <tr>\n",
       "      <th>41</th>\n",
       "      <td>1700</td>\n",
       "    </tr>\n",
       "    <tr>\n",
       "      <th>75</th>\n",
       "      <td>1202</td>\n",
       "    </tr>\n",
       "  </tbody>\n",
       "</table>\n",
       "</div>"
      ],
      "text/plain": [
       "    DelayCode\n",
       "93      15434\n",
       "89      11273\n",
       "15       1890\n",
       "41       1700\n",
       "75       1202"
      ]
     },
     "execution_count": 20,
     "metadata": {},
     "output_type": "execute_result"
    }
   ],
   "source": [
    "PopularDelays.to_frame()"
   ]
  },
  {
   "cell_type": "code",
   "execution_count": 21,
   "metadata": {},
   "outputs": [],
   "source": [
    "PopularDelays.index.rename('ID', inplace=True)"
   ]
  },
  {
   "cell_type": "code",
   "execution_count": 22,
   "metadata": {},
   "outputs": [
    {
     "data": {
      "text/html": [
       "<div>\n",
       "<style scoped>\n",
       "    .dataframe tbody tr th:only-of-type {\n",
       "        vertical-align: middle;\n",
       "    }\n",
       "\n",
       "    .dataframe tbody tr th {\n",
       "        vertical-align: top;\n",
       "    }\n",
       "\n",
       "    .dataframe thead th {\n",
       "        text-align: right;\n",
       "    }\n",
       "</style>\n",
       "<table border=\"1\" class=\"dataframe\">\n",
       "  <thead>\n",
       "    <tr style=\"text-align: right;\">\n",
       "      <th></th>\n",
       "      <th>DelayCode</th>\n",
       "    </tr>\n",
       "    <tr>\n",
       "      <th>ID</th>\n",
       "      <th></th>\n",
       "    </tr>\n",
       "  </thead>\n",
       "  <tbody>\n",
       "    <tr>\n",
       "      <th>93</th>\n",
       "      <td>15434</td>\n",
       "    </tr>\n",
       "    <tr>\n",
       "      <th>89</th>\n",
       "      <td>11273</td>\n",
       "    </tr>\n",
       "    <tr>\n",
       "      <th>15</th>\n",
       "      <td>1890</td>\n",
       "    </tr>\n",
       "    <tr>\n",
       "      <th>41</th>\n",
       "      <td>1700</td>\n",
       "    </tr>\n",
       "    <tr>\n",
       "      <th>75</th>\n",
       "      <td>1202</td>\n",
       "    </tr>\n",
       "  </tbody>\n",
       "</table>\n",
       "</div>"
      ],
      "text/plain": [
       "    DelayCode\n",
       "ID           \n",
       "93      15434\n",
       "89      11273\n",
       "15       1890\n",
       "41       1700\n",
       "75       1202"
      ]
     },
     "execution_count": 22,
     "metadata": {},
     "output_type": "execute_result"
    }
   ],
   "source": [
    "PopularDelays.to_frame()"
   ]
  },
  {
   "cell_type": "code",
   "execution_count": 23,
   "metadata": {},
   "outputs": [
    {
     "data": {
      "text/html": [
       "<div>\n",
       "<style scoped>\n",
       "    .dataframe tbody tr th:only-of-type {\n",
       "        vertical-align: middle;\n",
       "    }\n",
       "\n",
       "    .dataframe tbody tr th {\n",
       "        vertical-align: top;\n",
       "    }\n",
       "\n",
       "    .dataframe thead th {\n",
       "        text-align: right;\n",
       "    }\n",
       "</style>\n",
       "<table border=\"1\" class=\"dataframe\">\n",
       "  <thead>\n",
       "    <tr style=\"text-align: right;\">\n",
       "      <th></th>\n",
       "      <th>ID</th>\n",
       "      <th>CategoryID</th>\n",
       "      <th>Description</th>\n",
       "    </tr>\n",
       "  </thead>\n",
       "  <tbody>\n",
       "    <tr>\n",
       "      <th>78</th>\n",
       "      <td>93</td>\n",
       "      <td>15</td>\n",
       "      <td>AIRCRAFT ROTATION, late arrival</td>\n",
       "    </tr>\n",
       "  </tbody>\n",
       "</table>\n",
       "</div>"
      ],
      "text/plain": [
       "    ID  CategoryID                      Description\n",
       "78  93          15  AIRCRAFT ROTATION, late arrival"
      ]
     },
     "execution_count": 23,
     "metadata": {},
     "output_type": "execute_result"
    }
   ],
   "source": [
    "DelayCodes[DelayCodes['ID']==93]"
   ]
  },
  {
   "cell_type": "code",
   "execution_count": 24,
   "metadata": {},
   "outputs": [],
   "source": [
    "PopularDelays = pd.merge( PopularDelays, DelayCodes, on = 'ID')"
   ]
  },
  {
   "cell_type": "code",
   "execution_count": 25,
   "metadata": {},
   "outputs": [
    {
     "data": {
      "text/html": [
       "<div>\n",
       "<style scoped>\n",
       "    .dataframe tbody tr th:only-of-type {\n",
       "        vertical-align: middle;\n",
       "    }\n",
       "\n",
       "    .dataframe tbody tr th {\n",
       "        vertical-align: top;\n",
       "    }\n",
       "\n",
       "    .dataframe thead th {\n",
       "        text-align: right;\n",
       "    }\n",
       "</style>\n",
       "<table border=\"1\" class=\"dataframe\">\n",
       "  <thead>\n",
       "    <tr style=\"text-align: right;\">\n",
       "      <th></th>\n",
       "      <th>ID</th>\n",
       "      <th>DelayCode</th>\n",
       "      <th>CategoryID</th>\n",
       "      <th>Description</th>\n",
       "    </tr>\n",
       "  </thead>\n",
       "  <tbody>\n",
       "    <tr>\n",
       "      <th>0</th>\n",
       "      <td>93</td>\n",
       "      <td>15434</td>\n",
       "      <td>15</td>\n",
       "      <td>AIRCRAFT ROTATION, late arrival</td>\n",
       "    </tr>\n",
       "    <tr>\n",
       "      <th>1</th>\n",
       "      <td>89</td>\n",
       "      <td>11273</td>\n",
       "      <td>14</td>\n",
       "      <td>RESTRICTIONS AT AIRPORT OF DEPARTURE</td>\n",
       "    </tr>\n",
       "    <tr>\n",
       "      <th>2</th>\n",
       "      <td>15</td>\n",
       "      <td>1890</td>\n",
       "      <td>3</td>\n",
       "      <td>BOARDING, discrepancies, missing checked passe...</td>\n",
       "    </tr>\n",
       "    <tr>\n",
       "      <th>3</th>\n",
       "      <td>41</td>\n",
       "      <td>1700</td>\n",
       "      <td>7</td>\n",
       "      <td>AIRCRAFT DEFECTS</td>\n",
       "    </tr>\n",
       "    <tr>\n",
       "      <th>4</th>\n",
       "      <td>75</td>\n",
       "      <td>1202</td>\n",
       "      <td>12</td>\n",
       "      <td>DE-ICING OF AIRCRAFT</td>\n",
       "    </tr>\n",
       "  </tbody>\n",
       "</table>\n",
       "</div>"
      ],
      "text/plain": [
       "   ID  DelayCode  CategoryID  \\\n",
       "0  93      15434          15   \n",
       "1  89      11273          14   \n",
       "2  15       1890           3   \n",
       "3  41       1700           7   \n",
       "4  75       1202          12   \n",
       "\n",
       "                                         Description  \n",
       "0                    AIRCRAFT ROTATION, late arrival  \n",
       "1               RESTRICTIONS AT AIRPORT OF DEPARTURE  \n",
       "2  BOARDING, discrepancies, missing checked passe...  \n",
       "3                                   AIRCRAFT DEFECTS  \n",
       "4                               DE-ICING OF AIRCRAFT  "
      ]
     },
     "execution_count": 25,
     "metadata": {},
     "output_type": "execute_result"
    }
   ],
   "source": [
    "PopularDelays"
   ]
  },
  {
   "cell_type": "code",
   "execution_count": 26,
   "metadata": {},
   "outputs": [],
   "source": [
    "PopularDelays.rename(columns = {'Count': 'SumOfDelays'}, inplace = True)\n"
   ]
  },
  {
   "cell_type": "code",
   "execution_count": 27,
   "metadata": {},
   "outputs": [
    {
     "data": {
      "text/html": [
       "<div>\n",
       "<style scoped>\n",
       "    .dataframe tbody tr th:only-of-type {\n",
       "        vertical-align: middle;\n",
       "    }\n",
       "\n",
       "    .dataframe tbody tr th {\n",
       "        vertical-align: top;\n",
       "    }\n",
       "\n",
       "    .dataframe thead th {\n",
       "        text-align: right;\n",
       "    }\n",
       "</style>\n",
       "<table border=\"1\" class=\"dataframe\">\n",
       "  <thead>\n",
       "    <tr style=\"text-align: right;\">\n",
       "      <th></th>\n",
       "      <th>ID</th>\n",
       "      <th>DelayCode</th>\n",
       "      <th>CategoryID</th>\n",
       "      <th>Description</th>\n",
       "    </tr>\n",
       "  </thead>\n",
       "  <tbody>\n",
       "    <tr>\n",
       "      <th>0</th>\n",
       "      <td>93</td>\n",
       "      <td>15434</td>\n",
       "      <td>15</td>\n",
       "      <td>AIRCRAFT ROTATION, late arrival</td>\n",
       "    </tr>\n",
       "    <tr>\n",
       "      <th>1</th>\n",
       "      <td>89</td>\n",
       "      <td>11273</td>\n",
       "      <td>14</td>\n",
       "      <td>RESTRICTIONS AT AIRPORT OF DEPARTURE</td>\n",
       "    </tr>\n",
       "    <tr>\n",
       "      <th>2</th>\n",
       "      <td>15</td>\n",
       "      <td>1890</td>\n",
       "      <td>3</td>\n",
       "      <td>BOARDING, discrepancies, missing checked passe...</td>\n",
       "    </tr>\n",
       "    <tr>\n",
       "      <th>3</th>\n",
       "      <td>41</td>\n",
       "      <td>1700</td>\n",
       "      <td>7</td>\n",
       "      <td>AIRCRAFT DEFECTS</td>\n",
       "    </tr>\n",
       "    <tr>\n",
       "      <th>4</th>\n",
       "      <td>75</td>\n",
       "      <td>1202</td>\n",
       "      <td>12</td>\n",
       "      <td>DE-ICING OF AIRCRAFT</td>\n",
       "    </tr>\n",
       "  </tbody>\n",
       "</table>\n",
       "</div>"
      ],
      "text/plain": [
       "   ID  DelayCode  CategoryID  \\\n",
       "0  93      15434          15   \n",
       "1  89      11273          14   \n",
       "2  15       1890           3   \n",
       "3  41       1700           7   \n",
       "4  75       1202          12   \n",
       "\n",
       "                                         Description  \n",
       "0                    AIRCRAFT ROTATION, late arrival  \n",
       "1               RESTRICTIONS AT AIRPORT OF DEPARTURE  \n",
       "2  BOARDING, discrepancies, missing checked passe...  \n",
       "3                                   AIRCRAFT DEFECTS  \n",
       "4                               DE-ICING OF AIRCRAFT  "
      ]
     },
     "execution_count": 27,
     "metadata": {},
     "output_type": "execute_result"
    }
   ],
   "source": [
    "PopularDelays"
   ]
  },
  {
   "cell_type": "code",
   "execution_count": 28,
   "metadata": {},
   "outputs": [],
   "source": [
    "DelayCategories.rename(columns = {'ID': 'CategoryID'}, inplace = True)"
   ]
  },
  {
   "cell_type": "code",
   "execution_count": 29,
   "metadata": {},
   "outputs": [
    {
     "data": {
      "text/html": [
       "<div>\n",
       "<style scoped>\n",
       "    .dataframe tbody tr th:only-of-type {\n",
       "        vertical-align: middle;\n",
       "    }\n",
       "\n",
       "    .dataframe tbody tr th {\n",
       "        vertical-align: top;\n",
       "    }\n",
       "\n",
       "    .dataframe thead th {\n",
       "        text-align: right;\n",
       "    }\n",
       "</style>\n",
       "<table border=\"1\" class=\"dataframe\">\n",
       "  <thead>\n",
       "    <tr style=\"text-align: right;\">\n",
       "      <th></th>\n",
       "      <th>CategoryID</th>\n",
       "      <th>Code</th>\n",
       "      <th>Description</th>\n",
       "    </tr>\n",
       "  </thead>\n",
       "  <tbody>\n",
       "    <tr>\n",
       "      <th>0</th>\n",
       "      <td>1</td>\n",
       "      <td>OTHR</td>\n",
       "      <td>Others</td>\n",
       "    </tr>\n",
       "    <tr>\n",
       "      <th>1</th>\n",
       "      <td>2</td>\n",
       "      <td>SCH</td>\n",
       "      <td>Schedules</td>\n",
       "    </tr>\n",
       "    <tr>\n",
       "      <th>2</th>\n",
       "      <td>3</td>\n",
       "      <td>P&amp;B</td>\n",
       "      <td>Passenger &amp; Baggage</td>\n",
       "    </tr>\n",
       "    <tr>\n",
       "      <th>3</th>\n",
       "      <td>4</td>\n",
       "      <td>C&amp;M</td>\n",
       "      <td>Cargo &amp; Mail</td>\n",
       "    </tr>\n",
       "    <tr>\n",
       "      <th>4</th>\n",
       "      <td>5</td>\n",
       "      <td>ML</td>\n",
       "      <td>Mail only</td>\n",
       "    </tr>\n",
       "  </tbody>\n",
       "</table>\n",
       "</div>"
      ],
      "text/plain": [
       "   CategoryID  Code          Description\n",
       "0           1  OTHR               Others\n",
       "1           2   SCH            Schedules\n",
       "2           3   P&B  Passenger & Baggage\n",
       "3           4   C&M         Cargo & Mail\n",
       "4           5    ML            Mail only"
      ]
     },
     "execution_count": 29,
     "metadata": {},
     "output_type": "execute_result"
    }
   ],
   "source": [
    "DelayCategories.head()"
   ]
  },
  {
   "cell_type": "code",
   "execution_count": 30,
   "metadata": {},
   "outputs": [
    {
     "data": {
      "text/html": [
       "<div>\n",
       "<style scoped>\n",
       "    .dataframe tbody tr th:only-of-type {\n",
       "        vertical-align: middle;\n",
       "    }\n",
       "\n",
       "    .dataframe tbody tr th {\n",
       "        vertical-align: top;\n",
       "    }\n",
       "\n",
       "    .dataframe thead th {\n",
       "        text-align: right;\n",
       "    }\n",
       "</style>\n",
       "<table border=\"1\" class=\"dataframe\">\n",
       "  <thead>\n",
       "    <tr style=\"text-align: right;\">\n",
       "      <th></th>\n",
       "      <th>ID</th>\n",
       "      <th>DelayCode</th>\n",
       "      <th>CategoryID</th>\n",
       "      <th>Description_x</th>\n",
       "      <th>Code</th>\n",
       "      <th>Description_y</th>\n",
       "    </tr>\n",
       "  </thead>\n",
       "  <tbody>\n",
       "    <tr>\n",
       "      <th>0</th>\n",
       "      <td>93</td>\n",
       "      <td>15434</td>\n",
       "      <td>15</td>\n",
       "      <td>AIRCRAFT ROTATION, late arrival</td>\n",
       "      <td>REAC</td>\n",
       "      <td>Reactionary</td>\n",
       "    </tr>\n",
       "    <tr>\n",
       "      <th>1</th>\n",
       "      <td>89</td>\n",
       "      <td>11273</td>\n",
       "      <td>14</td>\n",
       "      <td>RESTRICTIONS AT AIRPORT OF DEPARTURE</td>\n",
       "      <td>AUTH</td>\n",
       "      <td>Airport &amp; Goverment Authorities</td>\n",
       "    </tr>\n",
       "    <tr>\n",
       "      <th>2</th>\n",
       "      <td>15</td>\n",
       "      <td>1890</td>\n",
       "      <td>3</td>\n",
       "      <td>BOARDING, discrepancies, missing checked passe...</td>\n",
       "      <td>P&amp;B</td>\n",
       "      <td>Passenger &amp; Baggage</td>\n",
       "    </tr>\n",
       "    <tr>\n",
       "      <th>3</th>\n",
       "      <td>41</td>\n",
       "      <td>1700</td>\n",
       "      <td>7</td>\n",
       "      <td>AIRCRAFT DEFECTS</td>\n",
       "      <td>TECH</td>\n",
       "      <td>Technical &amp; Aircraft equipment</td>\n",
       "    </tr>\n",
       "    <tr>\n",
       "      <th>4</th>\n",
       "      <td>75</td>\n",
       "      <td>1202</td>\n",
       "      <td>12</td>\n",
       "      <td>DE-ICING OF AIRCRAFT</td>\n",
       "      <td>WTH</td>\n",
       "      <td>Weather</td>\n",
       "    </tr>\n",
       "  </tbody>\n",
       "</table>\n",
       "</div>"
      ],
      "text/plain": [
       "   ID  DelayCode  CategoryID  \\\n",
       "0  93      15434          15   \n",
       "1  89      11273          14   \n",
       "2  15       1890           3   \n",
       "3  41       1700           7   \n",
       "4  75       1202          12   \n",
       "\n",
       "                                       Description_x  Code  \\\n",
       "0                    AIRCRAFT ROTATION, late arrival  REAC   \n",
       "1               RESTRICTIONS AT AIRPORT OF DEPARTURE  AUTH   \n",
       "2  BOARDING, discrepancies, missing checked passe...   P&B   \n",
       "3                                   AIRCRAFT DEFECTS  TECH   \n",
       "4                               DE-ICING OF AIRCRAFT   WTH   \n",
       "\n",
       "                     Description_y  \n",
       "0                      Reactionary  \n",
       "1  Airport & Goverment Authorities  \n",
       "2              Passenger & Baggage  \n",
       "3   Technical & Aircraft equipment  \n",
       "4                          Weather  "
      ]
     },
     "execution_count": 30,
     "metadata": {},
     "output_type": "execute_result"
    }
   ],
   "source": [
    "pd.merge(PopularDelays, DelayCategories, on = 'CategoryID')"
   ]
  },
  {
   "cell_type": "code",
   "execution_count": 31,
   "metadata": {},
   "outputs": [
    {
     "data": {
      "image/png": "[encoded data removed]",
      "text/plain": [
       "<Figure size 432x288 with 1 Axes>"
      ]
     },
     "metadata": {},
     "output_type": "display_data"
    }
   ],
   "source": [
    "import matplotlib.pyplot as plt\n",
    "\n",
    "# Pie chart, where the slices will be ordered and plotted counter-clockwise:\n",
    "labels = 'Reactionary', 'Airport & Goverment Authorities', 'Passenger & Baggage', 'Technical & Aircraft equipment', 'Weather'\n",
    "sizes = [15434, 11273, 1890, 1700, 1202]\n",
    "explode = (0, 0.1, 0, 0, 0)  # only \"explode\" the 2nd slice (i.e. 'Hogs')\n",
    "\n",
    "fig1, ax1 = plt.subplots()\n",
    "ax1.pie(sizes, explode=explode, labels=labels, autopct='%1.1f%%',\n",
    "        shadow=True, startangle=90)\n",
    "ax1.axis('equal')  # Equal aspect ratio ensures that pie is drawn as a circle.\n",
    "\n",
    "plt.show()"
   ]
  },
  {
   "cell_type": "code",
   "execution_count": 32,
   "metadata": {},
   "outputs": [],
   "source": [
    "Other = DepDelays['DelayCode'].value_counts().iloc[5:]"
   ]
  },
  {
   "cell_type": "code",
   "execution_count": 33,
   "metadata": {},
   "outputs": [],
   "source": [
    "Other = Other.to_frame()"
   ]
  },
  {
   "cell_type": "code",
   "execution_count": 34,
   "metadata": {},
   "outputs": [
    {
     "data": {
      "text/html": [
       "<div>\n",
       "<style scoped>\n",
       "    .dataframe tbody tr th:only-of-type {\n",
       "        vertical-align: middle;\n",
       "    }\n",
       "\n",
       "    .dataframe tbody tr th {\n",
       "        vertical-align: top;\n",
       "    }\n",
       "\n",
       "    .dataframe thead th {\n",
       "        text-align: right;\n",
       "    }\n",
       "</style>\n",
       "<table border=\"1\" class=\"dataframe\">\n",
       "  <thead>\n",
       "    <tr style=\"text-align: right;\">\n",
       "      <th></th>\n",
       "      <th>DelayCode</th>\n",
       "    </tr>\n",
       "  </thead>\n",
       "  <tbody>\n",
       "    <tr>\n",
       "      <th>86</th>\n",
       "      <td>1010</td>\n",
       "    </tr>\n",
       "    <tr>\n",
       "      <th>16</th>\n",
       "      <td>943</td>\n",
       "    </tr>\n",
       "    <tr>\n",
       "      <th>34</th>\n",
       "      <td>885</td>\n",
       "    </tr>\n",
       "    <tr>\n",
       "      <th>68</th>\n",
       "      <td>880</td>\n",
       "    </tr>\n",
       "    <tr>\n",
       "      <th>8</th>\n",
       "      <td>771</td>\n",
       "    </tr>\n",
       "    <tr>\n",
       "      <th>...</th>\n",
       "      <td>...</td>\n",
       "    </tr>\n",
       "    <tr>\n",
       "      <th>28</th>\n",
       "      <td>1</td>\n",
       "    </tr>\n",
       "    <tr>\n",
       "      <th>29</th>\n",
       "      <td>1</td>\n",
       "    </tr>\n",
       "    <tr>\n",
       "      <th>19</th>\n",
       "      <td>1</td>\n",
       "    </tr>\n",
       "    <tr>\n",
       "      <th>69</th>\n",
       "      <td>1</td>\n",
       "    </tr>\n",
       "    <tr>\n",
       "      <th>25</th>\n",
       "      <td>1</td>\n",
       "    </tr>\n",
       "  </tbody>\n",
       "</table>\n",
       "<p>71 rows × 1 columns</p>\n",
       "</div>"
      ],
      "text/plain": [
       "    DelayCode\n",
       "86       1010\n",
       "16        943\n",
       "34        885\n",
       "68        880\n",
       "8         771\n",
       "..        ...\n",
       "28          1\n",
       "29          1\n",
       "19          1\n",
       "69          1\n",
       "25          1\n",
       "\n",
       "[71 rows x 1 columns]"
      ]
     },
     "execution_count": 34,
     "metadata": {},
     "output_type": "execute_result"
    }
   ],
   "source": [
    "Other"
   ]
  },
  {
   "cell_type": "code",
   "execution_count": 35,
   "metadata": {},
   "outputs": [],
   "source": [
    "Other.index.rename('ID', inplace=True)"
   ]
  },
  {
   "cell_type": "code",
   "execution_count": 36,
   "metadata": {},
   "outputs": [
    {
     "data": {
      "text/html": [
       "<div>\n",
       "<style scoped>\n",
       "    .dataframe tbody tr th:only-of-type {\n",
       "        vertical-align: middle;\n",
       "    }\n",
       "\n",
       "    .dataframe tbody tr th {\n",
       "        vertical-align: top;\n",
       "    }\n",
       "\n",
       "    .dataframe thead th {\n",
       "        text-align: right;\n",
       "    }\n",
       "</style>\n",
       "<table border=\"1\" class=\"dataframe\">\n",
       "  <thead>\n",
       "    <tr style=\"text-align: right;\">\n",
       "      <th></th>\n",
       "      <th>DelayCode</th>\n",
       "    </tr>\n",
       "    <tr>\n",
       "      <th>ID</th>\n",
       "      <th></th>\n",
       "    </tr>\n",
       "  </thead>\n",
       "  <tbody>\n",
       "    <tr>\n",
       "      <th>86</th>\n",
       "      <td>1010</td>\n",
       "    </tr>\n",
       "    <tr>\n",
       "      <th>16</th>\n",
       "      <td>943</td>\n",
       "    </tr>\n",
       "    <tr>\n",
       "      <th>34</th>\n",
       "      <td>885</td>\n",
       "    </tr>\n",
       "    <tr>\n",
       "      <th>68</th>\n",
       "      <td>880</td>\n",
       "    </tr>\n",
       "    <tr>\n",
       "      <th>8</th>\n",
       "      <td>771</td>\n",
       "    </tr>\n",
       "    <tr>\n",
       "      <th>...</th>\n",
       "      <td>...</td>\n",
       "    </tr>\n",
       "    <tr>\n",
       "      <th>28</th>\n",
       "      <td>1</td>\n",
       "    </tr>\n",
       "    <tr>\n",
       "      <th>29</th>\n",
       "      <td>1</td>\n",
       "    </tr>\n",
       "    <tr>\n",
       "      <th>19</th>\n",
       "      <td>1</td>\n",
       "    </tr>\n",
       "    <tr>\n",
       "      <th>69</th>\n",
       "      <td>1</td>\n",
       "    </tr>\n",
       "    <tr>\n",
       "      <th>25</th>\n",
       "      <td>1</td>\n",
       "    </tr>\n",
       "  </tbody>\n",
       "</table>\n",
       "<p>71 rows × 1 columns</p>\n",
       "</div>"
      ],
      "text/plain": [
       "    DelayCode\n",
       "ID           \n",
       "86       1010\n",
       "16        943\n",
       "34        885\n",
       "68        880\n",
       "8         771\n",
       "..        ...\n",
       "28          1\n",
       "29          1\n",
       "19          1\n",
       "69          1\n",
       "25          1\n",
       "\n",
       "[71 rows x 1 columns]"
      ]
     },
     "execution_count": 36,
     "metadata": {},
     "output_type": "execute_result"
    }
   ],
   "source": [
    "Other"
   ]
  },
  {
   "cell_type": "code",
   "execution_count": 37,
   "metadata": {},
   "outputs": [],
   "source": [
    "Other.rename(columns = {'DelayCode': 'CountOfDelays'}, inplace = True)"
   ]
  },
  {
   "cell_type": "code",
   "execution_count": 38,
   "metadata": {},
   "outputs": [
    {
     "data": {
      "text/html": [
       "<div>\n",
       "<style scoped>\n",
       "    .dataframe tbody tr th:only-of-type {\n",
       "        vertical-align: middle;\n",
       "    }\n",
       "\n",
       "    .dataframe tbody tr th {\n",
       "        vertical-align: top;\n",
       "    }\n",
       "\n",
       "    .dataframe thead th {\n",
       "        text-align: right;\n",
       "    }\n",
       "</style>\n",
       "<table border=\"1\" class=\"dataframe\">\n",
       "  <thead>\n",
       "    <tr style=\"text-align: right;\">\n",
       "      <th></th>\n",
       "      <th>CountOfDelays</th>\n",
       "    </tr>\n",
       "    <tr>\n",
       "      <th>ID</th>\n",
       "      <th></th>\n",
       "    </tr>\n",
       "  </thead>\n",
       "  <tbody>\n",
       "    <tr>\n",
       "      <th>86</th>\n",
       "      <td>1010</td>\n",
       "    </tr>\n",
       "    <tr>\n",
       "      <th>16</th>\n",
       "      <td>943</td>\n",
       "    </tr>\n",
       "    <tr>\n",
       "      <th>34</th>\n",
       "      <td>885</td>\n",
       "    </tr>\n",
       "    <tr>\n",
       "      <th>68</th>\n",
       "      <td>880</td>\n",
       "    </tr>\n",
       "    <tr>\n",
       "      <th>8</th>\n",
       "      <td>771</td>\n",
       "    </tr>\n",
       "    <tr>\n",
       "      <th>...</th>\n",
       "      <td>...</td>\n",
       "    </tr>\n",
       "    <tr>\n",
       "      <th>28</th>\n",
       "      <td>1</td>\n",
       "    </tr>\n",
       "    <tr>\n",
       "      <th>29</th>\n",
       "      <td>1</td>\n",
       "    </tr>\n",
       "    <tr>\n",
       "      <th>19</th>\n",
       "      <td>1</td>\n",
       "    </tr>\n",
       "    <tr>\n",
       "      <th>69</th>\n",
       "      <td>1</td>\n",
       "    </tr>\n",
       "    <tr>\n",
       "      <th>25</th>\n",
       "      <td>1</td>\n",
       "    </tr>\n",
       "  </tbody>\n",
       "</table>\n",
       "<p>71 rows × 1 columns</p>\n",
       "</div>"
      ],
      "text/plain": [
       "    CountOfDelays\n",
       "ID               \n",
       "86           1010\n",
       "16            943\n",
       "34            885\n",
       "68            880\n",
       "8             771\n",
       "..            ...\n",
       "28              1\n",
       "29              1\n",
       "19              1\n",
       "69              1\n",
       "25              1\n",
       "\n",
       "[71 rows x 1 columns]"
      ]
     },
     "execution_count": 38,
     "metadata": {},
     "output_type": "execute_result"
    }
   ],
   "source": [
    "Other"
   ]
  },
  {
   "cell_type": "code",
   "execution_count": 39,
   "metadata": {},
   "outputs": [
    {
     "data": {
      "text/plain": [
       "14971"
      ]
     },
     "execution_count": 39,
     "metadata": {},
     "output_type": "execute_result"
    }
   ],
   "source": [
    "Other['CountOfDelays'].sum()"
   ]
  },
  {
   "cell_type": "code",
   "execution_count": 40,
   "metadata": {},
   "outputs": [
    {
     "data": {
      "image/png": "[encoded data removed]",
      "text/plain": [
       "<Figure size 432x288 with 1 Axes>"
      ]
     },
     "metadata": {},
     "output_type": "display_data"
    }
   ],
   "source": [
    "# Pie chart, where the slices will be ordered and plotted counter-clockwise:\n",
    "labels = 'Reactionary', 'Airport & Goverment Authorities', 'Passenger & Baggage', 'Technical & Aircraft equipment', 'Weather', 'Other'\n",
    "sizes = [15434, 11273, 1890, 1700, 1202, 14971]\n",
    "explode = (0, 0.1, 0, 0, 0, 0)  # only \"explode\" the 2nd slice (i.e. 'Hogs')\n",
    "\n",
    "fig1, ax1 = plt.subplots()\n",
    "ax1.pie(sizes, explode=explode, labels=labels, autopct='%1.1f%%',\n",
    "        shadow=True, startangle=90)\n",
    "ax1.axis('equal')  # Equal aspect ratio ensures that pie is drawn as a circle.\n",
    "\n",
    "plt.show()"
   ]
  },
  {
   "cell_type": "code",
   "execution_count": 44,
   "metadata": {},
   "outputs": [],
   "source": [
    "import calendar\n",
    "import datetime"
   ]
  },
  {
   "cell_type": "code",
   "execution_count": 47,
   "metadata": {},
   "outputs": [
    {
     "data": {
      "text/plain": [
       "Int64Index([1, 1, 1, 1, 1, 1, 1, 1, 1, 1,\n",
       "            ...\n",
       "            7, 7, 7, 7, 7, 7, 7, 7, 7, 7],\n",
       "           dtype='int64', name='FlightDate', length=72462)"
      ]
     },
     "execution_count": 47,
     "metadata": {},
     "output_type": "execute_result"
    }
   ],
   "source": [
    "pd.DatetimeIndex(FlightDelays['FlightDate']).month"
   ]
  },
  {
   "cell_type": "code",
   "execution_count": 73,
   "metadata": {},
   "outputs": [],
   "source": [
    "FlightDelays2019 = FlightDelays[(FlightDelays['FlightDate'] > '2019-01-01') & (FlightDelays['FlightDate'] < '2019-12-31')]"
   ]
  },
  {
   "cell_type": "code",
   "execution_count": 74,
   "metadata": {},
   "outputs": [
    {
     "name": "stderr",
     "output_type": "stream",
     "text": [
      "/Users/alinaachilova/opt/anaconda3/lib/python3.7/site-packages/ipykernel_launcher.py:1: SettingWithCopyWarning: \n",
      "A value is trying to be set on a copy of a slice from a DataFrame.\n",
      "Try using .loc[row_indexer,col_indexer] = value instead\n",
      "\n",
      "See the caveats in the documentation: https://pandas.pydata.org/pandas-docs/stable/user_guide/indexing.html#returning-a-view-versus-a-copy\n",
      "  \"\"\"Entry point for launching an IPython kernel.\n"
     ]
    }
   ],
   "source": [
    "FlightDelays2019['Month'] = pd.DatetimeIndex(FlightDelays2019['FlightDate']).month"
   ]
  },
  {
   "cell_type": "code",
   "execution_count": 75,
   "metadata": {},
   "outputs": [
    {
     "data": {
      "text/html": [
       "<div>\n",
       "<style scoped>\n",
       "    .dataframe tbody tr th:only-of-type {\n",
       "        vertical-align: middle;\n",
       "    }\n",
       "\n",
       "    .dataframe tbody tr th {\n",
       "        vertical-align: top;\n",
       "    }\n",
       "\n",
       "    .dataframe thead th {\n",
       "        text-align: right;\n",
       "    }\n",
       "</style>\n",
       "<table border=\"1\" class=\"dataframe\">\n",
       "  <thead>\n",
       "    <tr style=\"text-align: right;\">\n",
       "      <th></th>\n",
       "      <th>FlightNumber</th>\n",
       "      <th>FlightDate</th>\n",
       "      <th>OriginalFlightDate</th>\n",
       "      <th>ScheduledDepartureDateTime</th>\n",
       "      <th>DepartureStation</th>\n",
       "      <th>CarrierID</th>\n",
       "      <th>FlightPostfix</th>\n",
       "      <th>DelayCode</th>\n",
       "      <th>SubDelayID</th>\n",
       "      <th>TypeOfDelay</th>\n",
       "      <th>DelayTime</th>\n",
       "      <th>Month</th>\n",
       "    </tr>\n",
       "  </thead>\n",
       "  <tbody>\n",
       "    <tr>\n",
       "      <th>89</th>\n",
       "      <td>111</td>\n",
       "      <td>2019-01-02</td>\n",
       "      <td>2019-01-02</td>\n",
       "      <td>2019-01-02 04:25:00</td>\n",
       "      <td>ALA</td>\n",
       "      <td>1</td>\n",
       "      <td>NaN</td>\n",
       "      <td>89</td>\n",
       "      <td>25</td>\n",
       "      <td>1</td>\n",
       "      <td>3</td>\n",
       "      <td>1</td>\n",
       "    </tr>\n",
       "    <tr>\n",
       "      <th>90</th>\n",
       "      <td>111</td>\n",
       "      <td>2019-01-02</td>\n",
       "      <td>2019-01-02</td>\n",
       "      <td>2019-01-02 04:25:00</td>\n",
       "      <td>ALA</td>\n",
       "      <td>1</td>\n",
       "      <td>NaN</td>\n",
       "      <td>93</td>\n",
       "      <td>0</td>\n",
       "      <td>2</td>\n",
       "      <td>1</td>\n",
       "      <td>1</td>\n",
       "    </tr>\n",
       "    <tr>\n",
       "      <th>91</th>\n",
       "      <td>127</td>\n",
       "      <td>2019-01-02</td>\n",
       "      <td>2019-01-02</td>\n",
       "      <td>2019-01-02 06:15:00</td>\n",
       "      <td>ALA</td>\n",
       "      <td>1</td>\n",
       "      <td>NaN</td>\n",
       "      <td>93</td>\n",
       "      <td>0</td>\n",
       "      <td>2</td>\n",
       "      <td>3</td>\n",
       "      <td>1</td>\n",
       "    </tr>\n",
       "    <tr>\n",
       "      <th>92</th>\n",
       "      <td>307</td>\n",
       "      <td>2019-01-02</td>\n",
       "      <td>2019-01-02</td>\n",
       "      <td>2019-01-02 02:10:00</td>\n",
       "      <td>ALA</td>\n",
       "      <td>1</td>\n",
       "      <td>NaN</td>\n",
       "      <td>93</td>\n",
       "      <td>0</td>\n",
       "      <td>2</td>\n",
       "      <td>1</td>\n",
       "      <td>1</td>\n",
       "    </tr>\n",
       "    <tr>\n",
       "      <th>93</th>\n",
       "      <td>349</td>\n",
       "      <td>2019-01-02</td>\n",
       "      <td>2019-01-02</td>\n",
       "      <td>2019-01-02 02:30:00</td>\n",
       "      <td>ALA</td>\n",
       "      <td>1</td>\n",
       "      <td>NaN</td>\n",
       "      <td>75</td>\n",
       "      <td>24</td>\n",
       "      <td>1</td>\n",
       "      <td>9</td>\n",
       "      <td>1</td>\n",
       "    </tr>\n",
       "  </tbody>\n",
       "</table>\n",
       "</div>"
      ],
      "text/plain": [
       "    FlightNumber FlightDate OriginalFlightDate ScheduledDepartureDateTime  \\\n",
       "89           111 2019-01-02         2019-01-02        2019-01-02 04:25:00   \n",
       "90           111 2019-01-02         2019-01-02        2019-01-02 04:25:00   \n",
       "91           127 2019-01-02         2019-01-02        2019-01-02 06:15:00   \n",
       "92           307 2019-01-02         2019-01-02        2019-01-02 02:10:00   \n",
       "93           349 2019-01-02         2019-01-02        2019-01-02 02:30:00   \n",
       "\n",
       "   DepartureStation  CarrierID FlightPostfix  DelayCode  SubDelayID  \\\n",
       "89              ALA          1           NaN         89          25   \n",
       "90              ALA          1           NaN         93           0   \n",
       "91              ALA          1           NaN         93           0   \n",
       "92              ALA          1           NaN         93           0   \n",
       "93              ALA          1           NaN         75          24   \n",
       "\n",
       "    TypeOfDelay  DelayTime  Month  \n",
       "89            1          3      1  \n",
       "90            2          1      1  \n",
       "91            2          3      1  \n",
       "92            2          1      1  \n",
       "93            1          9      1  "
      ]
     },
     "execution_count": 75,
     "metadata": {},
     "output_type": "execute_result"
    }
   ],
   "source": [
    "FlightDelays2019.head()"
   ]
  },
  {
   "cell_type": "code",
   "execution_count": 108,
   "metadata": {},
   "outputs": [
    {
     "data": {
      "text/plain": [
       "12    8263\n",
       "11    5946\n",
       "6     5467\n",
       "9     5106\n",
       "7     4980\n",
       "8     4941\n",
       "10    4156\n",
       "1     3971\n",
       "2     3618\n",
       "3     3282\n",
       "4     3018\n",
       "5     2651\n",
       "Name: Month, dtype: int64"
      ]
     },
     "execution_count": 108,
     "metadata": {},
     "output_type": "execute_result"
    }
   ],
   "source": [
    "FlightDelays2019['Month'].value_counts()"
   ]
  },
  {
   "cell_type": "code",
   "execution_count": 112,
   "metadata": {},
   "outputs": [
    {
     "data": {
      "text/plain": [
       "<matplotlib.axes._subplots.AxesSubplot at 0x11a77ff90>"
      ]
     },
     "execution_count": 112,
     "metadata": {},
     "output_type": "execute_result"
    },
    {
     "data": {
      "image/png": "[encoded data removed]",
      "text/plain": [
       "<Figure size 432x288 with 1 Axes>"
      ]
     },
     "metadata": {
      "needs_background": "light"
     },
     "output_type": "display_data"
    }
   ],
   "source": [
    "sns.barplot(x=FlightDelays2019.Month.value_counts().index, y=FlightDelays2019.Month.value_counts())\n"
   ]
  },
  {
   "cell_type": "markdown",
   "metadata": {},
   "source": [
    "# It means if you flight in November or December, you should be ready to your flight can be delay"
   ]
  },
  {
   "cell_type": "code",
   "execution_count": 61,
   "metadata": {},
   "outputs": [
    {
     "data": {
      "text/html": [
       "<div>\n",
       "<style scoped>\n",
       "    .dataframe tbody tr th:only-of-type {\n",
       "        vertical-align: middle;\n",
       "    }\n",
       "\n",
       "    .dataframe tbody tr th {\n",
       "        vertical-align: top;\n",
       "    }\n",
       "\n",
       "    .dataframe thead th {\n",
       "        text-align: right;\n",
       "    }\n",
       "</style>\n",
       "<table border=\"1\" class=\"dataframe\">\n",
       "  <thead>\n",
       "    <tr style=\"text-align: right;\">\n",
       "      <th></th>\n",
       "      <th>FlightNumber</th>\n",
       "      <th>FlightDate</th>\n",
       "      <th>OriginalFlightDate</th>\n",
       "      <th>ScheduledDepartureDateTime</th>\n",
       "      <th>DepartureStation</th>\n",
       "      <th>CarrierID</th>\n",
       "      <th>FlightPostfix</th>\n",
       "      <th>DelayCode</th>\n",
       "      <th>SubDelayID</th>\n",
       "      <th>TypeOfDelay</th>\n",
       "      <th>DelayTime</th>\n",
       "      <th>Month</th>\n",
       "    </tr>\n",
       "  </thead>\n",
       "  <tbody>\n",
       "  </tbody>\n",
       "</table>\n",
       "</div>"
      ],
      "text/plain": [
       "Empty DataFrame\n",
       "Columns: [FlightNumber, FlightDate, OriginalFlightDate, ScheduledDepartureDateTime, DepartureStation, CarrierID, FlightPostfix, DelayCode, SubDelayID, TypeOfDelay, DelayTime, Month]\n",
       "Index: []"
      ]
     },
     "execution_count": 61,
     "metadata": {},
     "output_type": "execute_result"
    }
   ],
   "source": [
    "FlightDelays2019[FlightDelays2019.DelayCode.isin([0])]"
   ]
  },
  {
   "cell_type": "code",
   "execution_count": 138,
   "metadata": {},
   "outputs": [],
   "source": [
    "Flights = pd.read_excel('Flights.xlsx', encoding = 'utf-8')"
   ]
  },
  {
   "cell_type": "code",
   "execution_count": 142,
   "metadata": {},
   "outputs": [],
   "source": [
    "Flights = Flights[(Flights['FlightDate'] >= '2019-01-01') & (Flights['FlightDate'] <= '2019-12-31')]"
   ]
  },
  {
   "cell_type": "code",
   "execution_count": 143,
   "metadata": {},
   "outputs": [
    {
     "data": {
      "text/plain": [
       "OriginalFlightDate            49101\n",
       "FlightDate                    49101\n",
       "CarrierID                     49101\n",
       "FlightNumber                  49101\n",
       "FlightPostfix                 49101\n",
       "FlightStatusID                49101\n",
       "FlightTypeID                  49101\n",
       "AircraftID                    48928\n",
       "TailNumber                    48930\n",
       "DepartureStation              49101\n",
       "ArrivalStation                49101\n",
       "OriginalArrivalStation        49101\n",
       "ScheduledDepartureDateTime    49101\n",
       "ETD                           16369\n",
       "ATD                           47919\n",
       "STA                           49101\n",
       "ETA                           47895\n",
       "ATA                           47919\n",
       "TakeOffTime                   47741\n",
       "TouchDownTime                 47741\n",
       "IsCancelled                   49101\n",
       "BlockTime                     47919\n",
       "DoorCloseTime                 47919\n",
       "dtype: int64"
      ]
     },
     "execution_count": 143,
     "metadata": {},
     "output_type": "execute_result"
    }
   ],
   "source": [
    "Flights.count()"
   ]
  },
  {
   "cell_type": "code",
   "execution_count": 144,
   "metadata": {},
   "outputs": [],
   "source": [
    "FlightsDec = Flights[(Flights['FlightDate'] >= '2019-12-01') & (Flights['FlightDate'] <= '2019-12-31')]"
   ]
  },
  {
   "cell_type": "code",
   "execution_count": 145,
   "metadata": {},
   "outputs": [
    {
     "data": {
      "text/plain": [
       "OriginalFlightDate            4432\n",
       "FlightDate                    4432\n",
       "CarrierID                     4432\n",
       "FlightNumber                  4432\n",
       "FlightPostfix                 4432\n",
       "FlightStatusID                4432\n",
       "FlightTypeID                  4432\n",
       "AircraftID                    4424\n",
       "TailNumber                    4424\n",
       "DepartureStation              4432\n",
       "ArrivalStation                4432\n",
       "OriginalArrivalStation        4432\n",
       "ScheduledDepartureDateTime    4432\n",
       "ETD                           2168\n",
       "ATD                           4304\n",
       "STA                           4432\n",
       "ETA                           4303\n",
       "ATA                           4304\n",
       "TakeOffTime                   4280\n",
       "TouchDownTime                 4280\n",
       "IsCancelled                   4432\n",
       "BlockTime                     4304\n",
       "DoorCloseTime                 4304\n",
       "dtype: int64"
      ]
     },
     "execution_count": 145,
     "metadata": {},
     "output_type": "execute_result"
    }
   ],
   "source": [
    "FlightsDec.count()"
   ]
  },
  {
   "cell_type": "markdown",
   "metadata": {},
   "source": [
    "# From these results we see that, for instanse, they are 4432 flights in December 2019 at Air Astana, but it were almost 8000 delays, it means, one flight has more than one delay. If flight stays at airport more than 15 minutes from scheduled departure or arrival time, it should be noted as delay. "
   ]
  }
 ],
 "metadata": {
  "kernelspec": {
   "display_name": "Python 3",
   "language": "python",
   "name": "python3"
  },
  "language_info": {
   "codemirror_mode": {
    "name": "ipython",
    "version": 3
   },
   "file_extension": ".py",
   "mimetype": "text/x-python",
   "name": "python",
   "nbconvert_exporter": "python",
   "pygments_lexer": "ipython3",
   "version": "3.7.6"
  }
 },
 "nbformat": 4,
 "nbformat_minor": 4
}
